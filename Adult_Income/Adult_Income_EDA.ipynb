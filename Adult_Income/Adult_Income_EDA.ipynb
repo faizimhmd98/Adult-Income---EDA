{
 "cells": [
  {
   "cell_type": "markdown",
   "id": "cb63f04e",
   "metadata": {},
   "source": [
    "## <font color='blue'>Contents</font>\n",
    "### <font color='red'> 1. Business Understanding</font>\n",
    "      The objective and the motive of the project  \n",
    "      \n",
    "###  <font color='red'>2. Data acquisition</font>\n",
    "      Data aquisition  \n",
    "      Convert data into a Pandas Data Frame\n",
    "      \n",
    "### <font color='red'>3. Data Manipulation</font>\n",
    "      Treating missing values\n",
    "      Working with outliers\n",
    "\n",
    "### <font color='red'>4. Exploratory Data Analysis</font>\n",
    "      Univariate Analysis      \n",
    "      Bivariate analysis           \n"
   ]
  },
  {
   "cell_type": "markdown",
   "id": "8358ab74",
   "metadata": {},
   "source": [
    " # Data Acquisition"
   ]
  },
  {
   "cell_type": "code",
   "execution_count": 48,
   "id": "967b14b0",
   "metadata": {},
   "outputs": [],
   "source": [
    "# Required Libraries\n",
    "\n",
    "import requests\n",
    "import os\n",
    "import pandas as pd\n",
    "import numpy as np\n",
    "import statistics as stat\n",
    "import seaborn as sns \n",
    "import matplotlib.pyplot as plt\n"
   ]
  },
  {
   "cell_type": "code",
   "execution_count": 5,
   "id": "9ab3f136",
   "metadata": {},
   "outputs": [],
   "source": [
    "# Function used to acquire the data from the UCI website\n",
    "\n",
    "def aquire_data(path_to_data, data_urls):\n",
    "    if not os.path.exists(path_to_data):\n",
    "        os.mkdir(path_to_data)\n",
    "        \n",
    "    for url in data_urls:\n",
    "        data = requests.get(url).content\n",
    "        filename = os.path.join(path_to_data, os.path.basename(url))\n",
    "        with open(filename, 'wb') as file: \n",
    "            file.write(data)"
   ]
  },
  {
   "cell_type": "code",
   "execution_count": 6,
   "id": "91803b5d",
   "metadata": {},
   "outputs": [],
   "source": [
    "data_urls = [\"https://archive.ics.uci.edu/ml/machine-learning-databases/adult/adult.data\",\n",
    "             \"https://archive.ics.uci.edu/ml/machine-learning-databases/adult/adult.names\",\n",
    "             \"https://archive.ics.uci.edu/ml/machine-learning-databases/adult/adult.test\"]\n",
    "\n",
    "aquire_data('data', data_urls)"
   ]
  },
  {
   "cell_type": "markdown",
   "id": "465cc6ab",
   "metadata": {},
   "source": [
    "## Here 3 sets of datas are available :\n",
    "### adult.names - corresponds to different columns in the data.\n",
    "### adult.data - corresponds to the observations in the training data. \n",
    "### adult.test - corresponds to the observations in the test data."
   ]
  },
  {
   "cell_type": "code",
   "execution_count": 7,
   "id": "20428e24",
   "metadata": {},
   "outputs": [],
   "source": [
    "column_names = [\"Age\", \"Workclass\", \"fnlwgt\", \"Education\", \"Education-Num\", \n",
    "                \"Martial Status\", \"Occupation\", \"Relationship\", \"Race\", \"Sex\", \n",
    "                \"Capital-Gain\", \"Capital-Loss\", \"Hours-per-week\", \"Country\", \"Income\"] "
   ]
  },
  {
   "cell_type": "markdown",
   "id": "7cc63376",
   "metadata": {},
   "source": [
    "## Converting to Pandas DataFrame"
   ]
  },
  {
   "cell_type": "code",
   "execution_count": 8,
   "id": "ba5884fb",
   "metadata": {},
   "outputs": [],
   "source": [
    "train = pd.read_csv('data/adult.data', names=column_names, sep=' *, *', na_values='?', \n",
    "                   engine='python')\n",
    "test = pd.read_csv('data/adult.test', names=column_names, sep=' *, *', skiprows=1, \n",
    "                   engine='python', na_values='?')"
   ]
  },
  {
   "cell_type": "code",
   "execution_count": 9,
   "id": "278fff75",
   "metadata": {},
   "outputs": [
    {
     "data": {
      "text/html": [
       "<div>\n",
       "<style scoped>\n",
       "    .dataframe tbody tr th:only-of-type {\n",
       "        vertical-align: middle;\n",
       "    }\n",
       "\n",
       "    .dataframe tbody tr th {\n",
       "        vertical-align: top;\n",
       "    }\n",
       "\n",
       "    .dataframe thead th {\n",
       "        text-align: right;\n",
       "    }\n",
       "</style>\n",
       "<table border=\"1\" class=\"dataframe\">\n",
       "  <thead>\n",
       "    <tr style=\"text-align: right;\">\n",
       "      <th></th>\n",
       "      <th>Age</th>\n",
       "      <th>Workclass</th>\n",
       "      <th>fnlwgt</th>\n",
       "      <th>Education</th>\n",
       "      <th>Education-Num</th>\n",
       "      <th>Martial Status</th>\n",
       "      <th>Occupation</th>\n",
       "      <th>Relationship</th>\n",
       "      <th>Race</th>\n",
       "      <th>Sex</th>\n",
       "      <th>Capital-Gain</th>\n",
       "      <th>Capital-Loss</th>\n",
       "      <th>Hours-per-week</th>\n",
       "      <th>Country</th>\n",
       "      <th>Income</th>\n",
       "    </tr>\n",
       "  </thead>\n",
       "  <tbody>\n",
       "    <tr>\n",
       "      <th>0</th>\n",
       "      <td>39</td>\n",
       "      <td>State-gov</td>\n",
       "      <td>77516</td>\n",
       "      <td>Bachelors</td>\n",
       "      <td>13</td>\n",
       "      <td>Never-married</td>\n",
       "      <td>Adm-clerical</td>\n",
       "      <td>Not-in-family</td>\n",
       "      <td>White</td>\n",
       "      <td>Male</td>\n",
       "      <td>2174</td>\n",
       "      <td>0</td>\n",
       "      <td>40</td>\n",
       "      <td>United-States</td>\n",
       "      <td>&lt;=50K</td>\n",
       "    </tr>\n",
       "    <tr>\n",
       "      <th>1</th>\n",
       "      <td>50</td>\n",
       "      <td>Self-emp-not-inc</td>\n",
       "      <td>83311</td>\n",
       "      <td>Bachelors</td>\n",
       "      <td>13</td>\n",
       "      <td>Married-civ-spouse</td>\n",
       "      <td>Exec-managerial</td>\n",
       "      <td>Husband</td>\n",
       "      <td>White</td>\n",
       "      <td>Male</td>\n",
       "      <td>0</td>\n",
       "      <td>0</td>\n",
       "      <td>13</td>\n",
       "      <td>United-States</td>\n",
       "      <td>&lt;=50K</td>\n",
       "    </tr>\n",
       "    <tr>\n",
       "      <th>2</th>\n",
       "      <td>38</td>\n",
       "      <td>Private</td>\n",
       "      <td>215646</td>\n",
       "      <td>HS-grad</td>\n",
       "      <td>9</td>\n",
       "      <td>Divorced</td>\n",
       "      <td>Handlers-cleaners</td>\n",
       "      <td>Not-in-family</td>\n",
       "      <td>White</td>\n",
       "      <td>Male</td>\n",
       "      <td>0</td>\n",
       "      <td>0</td>\n",
       "      <td>40</td>\n",
       "      <td>United-States</td>\n",
       "      <td>&lt;=50K</td>\n",
       "    </tr>\n",
       "    <tr>\n",
       "      <th>3</th>\n",
       "      <td>53</td>\n",
       "      <td>Private</td>\n",
       "      <td>234721</td>\n",
       "      <td>11th</td>\n",
       "      <td>7</td>\n",
       "      <td>Married-civ-spouse</td>\n",
       "      <td>Handlers-cleaners</td>\n",
       "      <td>Husband</td>\n",
       "      <td>Black</td>\n",
       "      <td>Male</td>\n",
       "      <td>0</td>\n",
       "      <td>0</td>\n",
       "      <td>40</td>\n",
       "      <td>United-States</td>\n",
       "      <td>&lt;=50K</td>\n",
       "    </tr>\n",
       "    <tr>\n",
       "      <th>4</th>\n",
       "      <td>28</td>\n",
       "      <td>Private</td>\n",
       "      <td>338409</td>\n",
       "      <td>Bachelors</td>\n",
       "      <td>13</td>\n",
       "      <td>Married-civ-spouse</td>\n",
       "      <td>Prof-specialty</td>\n",
       "      <td>Wife</td>\n",
       "      <td>Black</td>\n",
       "      <td>Female</td>\n",
       "      <td>0</td>\n",
       "      <td>0</td>\n",
       "      <td>40</td>\n",
       "      <td>Cuba</td>\n",
       "      <td>&lt;=50K</td>\n",
       "    </tr>\n",
       "  </tbody>\n",
       "</table>\n",
       "</div>"
      ],
      "text/plain": [
       "   Age         Workclass  fnlwgt  Education  Education-Num  \\\n",
       "0   39         State-gov   77516  Bachelors             13   \n",
       "1   50  Self-emp-not-inc   83311  Bachelors             13   \n",
       "2   38           Private  215646    HS-grad              9   \n",
       "3   53           Private  234721       11th              7   \n",
       "4   28           Private  338409  Bachelors             13   \n",
       "\n",
       "       Martial Status         Occupation   Relationship   Race     Sex  \\\n",
       "0       Never-married       Adm-clerical  Not-in-family  White    Male   \n",
       "1  Married-civ-spouse    Exec-managerial        Husband  White    Male   \n",
       "2            Divorced  Handlers-cleaners  Not-in-family  White    Male   \n",
       "3  Married-civ-spouse  Handlers-cleaners        Husband  Black    Male   \n",
       "4  Married-civ-spouse     Prof-specialty           Wife  Black  Female   \n",
       "\n",
       "   Capital-Gain  Capital-Loss  Hours-per-week        Country Income  \n",
       "0          2174             0              40  United-States  <=50K  \n",
       "1             0             0              13  United-States  <=50K  \n",
       "2             0             0              40  United-States  <=50K  \n",
       "3             0             0              40  United-States  <=50K  \n",
       "4             0             0              40           Cuba  <=50K  "
      ]
     },
     "execution_count": 9,
     "metadata": {},
     "output_type": "execute_result"
    }
   ],
   "source": [
    "train.head()"
   ]
  },
  {
   "cell_type": "code",
   "execution_count": 10,
   "id": "813efb71",
   "metadata": {},
   "outputs": [
    {
     "data": {
      "text/html": [
       "<div>\n",
       "<style scoped>\n",
       "    .dataframe tbody tr th:only-of-type {\n",
       "        vertical-align: middle;\n",
       "    }\n",
       "\n",
       "    .dataframe tbody tr th {\n",
       "        vertical-align: top;\n",
       "    }\n",
       "\n",
       "    .dataframe thead th {\n",
       "        text-align: right;\n",
       "    }\n",
       "</style>\n",
       "<table border=\"1\" class=\"dataframe\">\n",
       "  <thead>\n",
       "    <tr style=\"text-align: right;\">\n",
       "      <th></th>\n",
       "      <th>Age</th>\n",
       "      <th>Workclass</th>\n",
       "      <th>fnlwgt</th>\n",
       "      <th>Education</th>\n",
       "      <th>Education-Num</th>\n",
       "      <th>Martial Status</th>\n",
       "      <th>Occupation</th>\n",
       "      <th>Relationship</th>\n",
       "      <th>Race</th>\n",
       "      <th>Sex</th>\n",
       "      <th>Capital-Gain</th>\n",
       "      <th>Capital-Loss</th>\n",
       "      <th>Hours-per-week</th>\n",
       "      <th>Country</th>\n",
       "      <th>Income</th>\n",
       "    </tr>\n",
       "  </thead>\n",
       "  <tbody>\n",
       "    <tr>\n",
       "      <th>0</th>\n",
       "      <td>25</td>\n",
       "      <td>Private</td>\n",
       "      <td>226802</td>\n",
       "      <td>11th</td>\n",
       "      <td>7</td>\n",
       "      <td>Never-married</td>\n",
       "      <td>Machine-op-inspct</td>\n",
       "      <td>Own-child</td>\n",
       "      <td>Black</td>\n",
       "      <td>Male</td>\n",
       "      <td>0</td>\n",
       "      <td>0</td>\n",
       "      <td>40</td>\n",
       "      <td>United-States</td>\n",
       "      <td>&lt;=50K.</td>\n",
       "    </tr>\n",
       "    <tr>\n",
       "      <th>1</th>\n",
       "      <td>38</td>\n",
       "      <td>Private</td>\n",
       "      <td>89814</td>\n",
       "      <td>HS-grad</td>\n",
       "      <td>9</td>\n",
       "      <td>Married-civ-spouse</td>\n",
       "      <td>Farming-fishing</td>\n",
       "      <td>Husband</td>\n",
       "      <td>White</td>\n",
       "      <td>Male</td>\n",
       "      <td>0</td>\n",
       "      <td>0</td>\n",
       "      <td>50</td>\n",
       "      <td>United-States</td>\n",
       "      <td>&lt;=50K.</td>\n",
       "    </tr>\n",
       "    <tr>\n",
       "      <th>2</th>\n",
       "      <td>28</td>\n",
       "      <td>Local-gov</td>\n",
       "      <td>336951</td>\n",
       "      <td>Assoc-acdm</td>\n",
       "      <td>12</td>\n",
       "      <td>Married-civ-spouse</td>\n",
       "      <td>Protective-serv</td>\n",
       "      <td>Husband</td>\n",
       "      <td>White</td>\n",
       "      <td>Male</td>\n",
       "      <td>0</td>\n",
       "      <td>0</td>\n",
       "      <td>40</td>\n",
       "      <td>United-States</td>\n",
       "      <td>&gt;50K.</td>\n",
       "    </tr>\n",
       "    <tr>\n",
       "      <th>3</th>\n",
       "      <td>44</td>\n",
       "      <td>Private</td>\n",
       "      <td>160323</td>\n",
       "      <td>Some-college</td>\n",
       "      <td>10</td>\n",
       "      <td>Married-civ-spouse</td>\n",
       "      <td>Machine-op-inspct</td>\n",
       "      <td>Husband</td>\n",
       "      <td>Black</td>\n",
       "      <td>Male</td>\n",
       "      <td>7688</td>\n",
       "      <td>0</td>\n",
       "      <td>40</td>\n",
       "      <td>United-States</td>\n",
       "      <td>&gt;50K.</td>\n",
       "    </tr>\n",
       "    <tr>\n",
       "      <th>4</th>\n",
       "      <td>18</td>\n",
       "      <td>NaN</td>\n",
       "      <td>103497</td>\n",
       "      <td>Some-college</td>\n",
       "      <td>10</td>\n",
       "      <td>Never-married</td>\n",
       "      <td>NaN</td>\n",
       "      <td>Own-child</td>\n",
       "      <td>White</td>\n",
       "      <td>Female</td>\n",
       "      <td>0</td>\n",
       "      <td>0</td>\n",
       "      <td>30</td>\n",
       "      <td>United-States</td>\n",
       "      <td>&lt;=50K.</td>\n",
       "    </tr>\n",
       "  </tbody>\n",
       "</table>\n",
       "</div>"
      ],
      "text/plain": [
       "   Age  Workclass  fnlwgt     Education  Education-Num      Martial Status  \\\n",
       "0   25    Private  226802          11th              7       Never-married   \n",
       "1   38    Private   89814       HS-grad              9  Married-civ-spouse   \n",
       "2   28  Local-gov  336951    Assoc-acdm             12  Married-civ-spouse   \n",
       "3   44    Private  160323  Some-college             10  Married-civ-spouse   \n",
       "4   18        NaN  103497  Some-college             10       Never-married   \n",
       "\n",
       "          Occupation Relationship   Race     Sex  Capital-Gain  Capital-Loss  \\\n",
       "0  Machine-op-inspct    Own-child  Black    Male             0             0   \n",
       "1    Farming-fishing      Husband  White    Male             0             0   \n",
       "2    Protective-serv      Husband  White    Male             0             0   \n",
       "3  Machine-op-inspct      Husband  Black    Male          7688             0   \n",
       "4                NaN    Own-child  White  Female             0             0   \n",
       "\n",
       "   Hours-per-week        Country  Income  \n",
       "0              40  United-States  <=50K.  \n",
       "1              50  United-States  <=50K.  \n",
       "2              40  United-States   >50K.  \n",
       "3              40  United-States   >50K.  \n",
       "4              30  United-States  <=50K.  "
      ]
     },
     "execution_count": 10,
     "metadata": {},
     "output_type": "execute_result"
    }
   ],
   "source": [
    "test.head()"
   ]
  },
  {
   "cell_type": "code",
   "execution_count": 11,
   "id": "4611f636",
   "metadata": {},
   "outputs": [
    {
     "data": {
      "text/plain": [
       "array(['<=50K.', '>50K.'], dtype=object)"
      ]
     },
     "execution_count": 11,
     "metadata": {},
     "output_type": "execute_result"
    }
   ],
   "source": [
    "test.Income.unique() # Unique attributes in the Income column"
   ]
  },
  {
   "cell_type": "code",
   "execution_count": 12,
   "id": "5f569dbf",
   "metadata": {},
   "outputs": [
    {
     "data": {
      "text/plain": [
       "array(['<=50K', '>50K'], dtype=object)"
      ]
     },
     "execution_count": 12,
     "metadata": {},
     "output_type": "execute_result"
    }
   ],
   "source": [
    "train.Income.unique()"
   ]
  },
  {
   "cell_type": "code",
   "execution_count": 13,
   "id": "c84e4fd9",
   "metadata": {},
   "outputs": [],
   "source": [
    "# Removing the \".\" at the end of the Income column\n",
    "\n",
    "test.Income = np.where(test.Income == '<=50K.', '<=50K', '>50K')\n"
   ]
  },
  {
   "cell_type": "code",
   "execution_count": 16,
   "id": "bc917de0",
   "metadata": {},
   "outputs": [
    {
     "data": {
      "text/html": [
       "<div>\n",
       "<style scoped>\n",
       "    .dataframe tbody tr th:only-of-type {\n",
       "        vertical-align: middle;\n",
       "    }\n",
       "\n",
       "    .dataframe tbody tr th {\n",
       "        vertical-align: top;\n",
       "    }\n",
       "\n",
       "    .dataframe thead th {\n",
       "        text-align: right;\n",
       "    }\n",
       "</style>\n",
       "<table border=\"1\" class=\"dataframe\">\n",
       "  <thead>\n",
       "    <tr style=\"text-align: right;\">\n",
       "      <th></th>\n",
       "      <th>Age</th>\n",
       "      <th>Workclass</th>\n",
       "      <th>fnlwgt</th>\n",
       "      <th>Education</th>\n",
       "      <th>Education-Num</th>\n",
       "      <th>Martial Status</th>\n",
       "      <th>Occupation</th>\n",
       "      <th>Relationship</th>\n",
       "      <th>Race</th>\n",
       "      <th>Sex</th>\n",
       "      <th>Capital-Gain</th>\n",
       "      <th>Capital-Loss</th>\n",
       "      <th>Hours-per-week</th>\n",
       "      <th>Country</th>\n",
       "      <th>Income</th>\n",
       "    </tr>\n",
       "  </thead>\n",
       "  <tbody>\n",
       "    <tr>\n",
       "      <th>0</th>\n",
       "      <td>39</td>\n",
       "      <td>State-gov</td>\n",
       "      <td>77516</td>\n",
       "      <td>Bachelors</td>\n",
       "      <td>13</td>\n",
       "      <td>Never-married</td>\n",
       "      <td>Adm-clerical</td>\n",
       "      <td>Not-in-family</td>\n",
       "      <td>White</td>\n",
       "      <td>Male</td>\n",
       "      <td>2174</td>\n",
       "      <td>0</td>\n",
       "      <td>40</td>\n",
       "      <td>United-States</td>\n",
       "      <td>&lt;=50K</td>\n",
       "    </tr>\n",
       "    <tr>\n",
       "      <th>1</th>\n",
       "      <td>50</td>\n",
       "      <td>Self-emp-not-inc</td>\n",
       "      <td>83311</td>\n",
       "      <td>Bachelors</td>\n",
       "      <td>13</td>\n",
       "      <td>Married-civ-spouse</td>\n",
       "      <td>Exec-managerial</td>\n",
       "      <td>Husband</td>\n",
       "      <td>White</td>\n",
       "      <td>Male</td>\n",
       "      <td>0</td>\n",
       "      <td>0</td>\n",
       "      <td>13</td>\n",
       "      <td>United-States</td>\n",
       "      <td>&lt;=50K</td>\n",
       "    </tr>\n",
       "    <tr>\n",
       "      <th>2</th>\n",
       "      <td>38</td>\n",
       "      <td>Private</td>\n",
       "      <td>215646</td>\n",
       "      <td>HS-grad</td>\n",
       "      <td>9</td>\n",
       "      <td>Divorced</td>\n",
       "      <td>Handlers-cleaners</td>\n",
       "      <td>Not-in-family</td>\n",
       "      <td>White</td>\n",
       "      <td>Male</td>\n",
       "      <td>0</td>\n",
       "      <td>0</td>\n",
       "      <td>40</td>\n",
       "      <td>United-States</td>\n",
       "      <td>&lt;=50K</td>\n",
       "    </tr>\n",
       "    <tr>\n",
       "      <th>3</th>\n",
       "      <td>53</td>\n",
       "      <td>Private</td>\n",
       "      <td>234721</td>\n",
       "      <td>11th</td>\n",
       "      <td>7</td>\n",
       "      <td>Married-civ-spouse</td>\n",
       "      <td>Handlers-cleaners</td>\n",
       "      <td>Husband</td>\n",
       "      <td>Black</td>\n",
       "      <td>Male</td>\n",
       "      <td>0</td>\n",
       "      <td>0</td>\n",
       "      <td>40</td>\n",
       "      <td>United-States</td>\n",
       "      <td>&lt;=50K</td>\n",
       "    </tr>\n",
       "    <tr>\n",
       "      <th>4</th>\n",
       "      <td>28</td>\n",
       "      <td>Private</td>\n",
       "      <td>338409</td>\n",
       "      <td>Bachelors</td>\n",
       "      <td>13</td>\n",
       "      <td>Married-civ-spouse</td>\n",
       "      <td>Prof-specialty</td>\n",
       "      <td>Wife</td>\n",
       "      <td>Black</td>\n",
       "      <td>Female</td>\n",
       "      <td>0</td>\n",
       "      <td>0</td>\n",
       "      <td>40</td>\n",
       "      <td>Cuba</td>\n",
       "      <td>&lt;=50K</td>\n",
       "    </tr>\n",
       "  </tbody>\n",
       "</table>\n",
       "</div>"
      ],
      "text/plain": [
       "   Age         Workclass  fnlwgt  Education  Education-Num  \\\n",
       "0   39         State-gov   77516  Bachelors             13   \n",
       "1   50  Self-emp-not-inc   83311  Bachelors             13   \n",
       "2   38           Private  215646    HS-grad              9   \n",
       "3   53           Private  234721       11th              7   \n",
       "4   28           Private  338409  Bachelors             13   \n",
       "\n",
       "       Martial Status         Occupation   Relationship   Race     Sex  \\\n",
       "0       Never-married       Adm-clerical  Not-in-family  White    Male   \n",
       "1  Married-civ-spouse    Exec-managerial        Husband  White    Male   \n",
       "2            Divorced  Handlers-cleaners  Not-in-family  White    Male   \n",
       "3  Married-civ-spouse  Handlers-cleaners        Husband  Black    Male   \n",
       "4  Married-civ-spouse     Prof-specialty           Wife  Black  Female   \n",
       "\n",
       "   Capital-Gain  Capital-Loss  Hours-per-week        Country Income  \n",
       "0          2174             0              40  United-States  <=50K  \n",
       "1             0             0              13  United-States  <=50K  \n",
       "2             0             0              40  United-States  <=50K  \n",
       "3             0             0              40  United-States  <=50K  \n",
       "4             0             0              40           Cuba  <=50K  "
      ]
     },
     "execution_count": 16,
     "metadata": {},
     "output_type": "execute_result"
    }
   ],
   "source": [
    "# # Concatenating train and test.\n",
    "\n",
    "df= pd.concat((train,test),axis=0)\n",
    "df.head()"
   ]
  },
  {
   "cell_type": "code",
   "execution_count": 17,
   "id": "0bc76abf",
   "metadata": {},
   "outputs": [
    {
     "data": {
      "text/plain": [
       "array(['<=50K', '>50K'], dtype=object)"
      ]
     },
     "execution_count": 17,
     "metadata": {},
     "output_type": "execute_result"
    }
   ],
   "source": [
    "df.Income.unique()"
   ]
  },
  {
   "cell_type": "code",
   "execution_count": 18,
   "id": "9db8137d",
   "metadata": {},
   "outputs": [
    {
     "data": {
      "text/plain": [
       "(48842, 15)"
      ]
     },
     "execution_count": 18,
     "metadata": {},
     "output_type": "execute_result"
    }
   ],
   "source": [
    "df.shape"
   ]
  },
  {
   "cell_type": "markdown",
   "id": "03594e5d",
   "metadata": {},
   "source": [
    "### Total observations are 48842 with 15 columns"
   ]
  },
  {
   "cell_type": "markdown",
   "id": "4ee47351",
   "metadata": {},
   "source": [
    "# Data Manipulation"
   ]
  },
  {
   "cell_type": "markdown",
   "id": "4be397af",
   "metadata": {},
   "source": [
    "### Dealing and Treating Missing Values"
   ]
  },
  {
   "cell_type": "code",
   "execution_count": 19,
   "id": "46979759",
   "metadata": {},
   "outputs": [
    {
     "data": {
      "text/plain": [
       "Age                  0\n",
       "Workclass         2799\n",
       "fnlwgt               0\n",
       "Education            0\n",
       "Education-Num        0\n",
       "Martial Status       0\n",
       "Occupation        2809\n",
       "Relationship         0\n",
       "Race                 0\n",
       "Sex                  0\n",
       "Capital-Gain         0\n",
       "Capital-Loss         0\n",
       "Hours-per-week       0\n",
       "Country            857\n",
       "Income               0\n",
       "dtype: int64"
      ]
     },
     "execution_count": 19,
     "metadata": {},
     "output_type": "execute_result"
    }
   ],
   "source": [
    "df.isnull().sum()"
   ]
  },
  {
   "cell_type": "markdown",
   "id": "33e075f3",
   "metadata": {},
   "source": [
    "### From the above observation we can find that the WorkClass, Occupation and Country has missing values by 2799,2809 and 857 respectively\n",
    "\n",
    "### Replacing missing data of categorical columns data with the mode value.\n",
    "### Replacing missing numerical columns data with the median value or mean."
   ]
  },
  {
   "cell_type": "code",
   "execution_count": 21,
   "id": "e9c7e43a",
   "metadata": {},
   "outputs": [
    {
     "data": {
      "text/plain": [
       "Age                int64\n",
       "Workclass         object\n",
       "fnlwgt             int64\n",
       "Education         object\n",
       "Education-Num      int64\n",
       "Martial Status    object\n",
       "Occupation        object\n",
       "Relationship      object\n",
       "Race              object\n",
       "Sex               object\n",
       "Capital-Gain       int64\n",
       "Capital-Loss       int64\n",
       "Hours-per-week     int64\n",
       "Country           object\n",
       "Income            object\n",
       "dtype: object"
      ]
     },
     "execution_count": 21,
     "metadata": {},
     "output_type": "execute_result"
    }
   ],
   "source": [
    "df.dtypes"
   ]
  },
  {
   "cell_type": "markdown",
   "id": "2cb7485b",
   "metadata": {},
   "source": [
    "### From the above type checking we can see that those columns that have missing values are all of categorical values."
   ]
  },
  {
   "cell_type": "code",
   "execution_count": 33,
   "id": "7bc63931",
   "metadata": {},
   "outputs": [
    {
     "name": "stdout",
     "output_type": "stream",
     "text": [
      "Unique Columns in Country are : \n",
      " ['United-States' 'Cuba' 'Jamaica' 'India' nan 'Mexico' 'South'\n",
      " 'Puerto-Rico' 'Honduras' 'England' 'Canada' 'Germany' 'Iran'\n",
      " 'Philippines' 'Italy' 'Poland' 'Columbia' 'Cambodia' 'Thailand' 'Ecuador'\n",
      " 'Laos' 'Taiwan' 'Haiti' 'Portugal' 'Dominican-Republic' 'El-Salvador'\n",
      " 'France' 'Guatemala' 'China' 'Japan' 'Yugoslavia' 'Peru'\n",
      " 'Outlying-US(Guam-USVI-etc)' 'Scotland' 'Trinadad&Tobago' 'Greece'\n",
      " 'Nicaragua' 'Vietnam' 'Hong' 'Ireland' 'Hungary' 'Holand-Netherlands']\n",
      "\n",
      "\n",
      "Unique Columns in Workclass are : \n",
      " ['State-gov' 'Self-emp-not-inc' 'Private' 'Federal-gov' 'Local-gov' nan\n",
      " 'Self-emp-inc' 'Without-pay' 'Never-worked']\n",
      "\n",
      "\n",
      "Unique Columns in Occupation are : \n",
      " ['Adm-clerical' 'Exec-managerial' 'Handlers-cleaners' 'Prof-specialty'\n",
      " 'Other-service' 'Sales' 'Craft-repair' 'Transport-moving'\n",
      " 'Farming-fishing' 'Machine-op-inspct' 'Tech-support' nan\n",
      " 'Protective-serv' 'Armed-Forces' 'Priv-house-serv']\n"
     ]
    }
   ],
   "source": [
    "print('Unique Columns in Country are : \\n',df['Country'].unique())\n",
    "print('\\n\\nUnique Columns in Workclass are : \\n',df['Workclass'].unique())\n",
    "print('\\n\\nUnique Columns in Occupation are : \\n',df['Occupation'].unique())"
   ]
  },
  {
   "cell_type": "code",
   "execution_count": 34,
   "id": "2a9f3853",
   "metadata": {},
   "outputs": [
    {
     "name": "stdout",
     "output_type": "stream",
     "text": [
      "The Number of unique values in the column Country are :  42\n",
      "The Number of unique values in the column Workclass are :  9\n",
      "The Number of unique values in the column Occupation are :  15\n"
     ]
    }
   ],
   "source": [
    "print('The Number of unique values in the column Country are : ',len(df['Country'].unique()))\n",
    "print('The Number of unique values in the column Workclass are : ',len(df['Workclass'].unique()))\n",
    "print('The Number of unique values in the column Occupation are : ',len(df['Occupation'].unique()))"
   ]
  },
  {
   "cell_type": "markdown",
   "id": "84ae047c",
   "metadata": {},
   "source": [
    "### Missing value replacement"
   ]
  },
  {
   "cell_type": "code",
   "execution_count": 37,
   "id": "613fa41b",
   "metadata": {},
   "outputs": [],
   "source": [
    "# Creating a helper function using the statistics library\n",
    "\n",
    "def fill_categorical_missing(data, column):\n",
    "    data.loc[data[column].isnull(), column] = stat.mode(data[column])\n",
    "\n",
    "cols_to_fill = ['Workclass', 'Occupation', 'Country']\n",
    "\n",
    "for col in cols_to_fill:\n",
    "    fill_categorical_missing(df, col)"
   ]
  },
  {
   "cell_type": "code",
   "execution_count": 42,
   "id": "da2e9461",
   "metadata": {},
   "outputs": [
    {
     "name": "stdout",
     "output_type": "stream",
     "text": [
      "Age               0\n",
      "Workclass         0\n",
      "fnlwgt            0\n",
      "Education         0\n",
      "Education-Num     0\n",
      "Martial Status    0\n",
      "Occupation        0\n",
      "Relationship      0\n",
      "Race              0\n",
      "Sex               0\n",
      "Capital-Gain      0\n",
      "Capital-Loss      0\n",
      "Hours-per-week    0\n",
      "Country           0\n",
      "Income            0\n",
      "dtype: int64\n"
     ]
    }
   ],
   "source": [
    "print(df.isnull().sum())"
   ]
  },
  {
   "cell_type": "code",
   "execution_count": 45,
   "id": "5bbeffba",
   "metadata": {},
   "outputs": [
    {
     "data": {
      "text/html": [
       "<div>\n",
       "<style scoped>\n",
       "    .dataframe tbody tr th:only-of-type {\n",
       "        vertical-align: middle;\n",
       "    }\n",
       "\n",
       "    .dataframe tbody tr th {\n",
       "        vertical-align: top;\n",
       "    }\n",
       "\n",
       "    .dataframe thead th {\n",
       "        text-align: right;\n",
       "    }\n",
       "</style>\n",
       "<table border=\"1\" class=\"dataframe\">\n",
       "  <thead>\n",
       "    <tr style=\"text-align: right;\">\n",
       "      <th></th>\n",
       "      <th>Age</th>\n",
       "      <th>Workclass</th>\n",
       "      <th>fnlwgt</th>\n",
       "      <th>Education</th>\n",
       "      <th>Education-Num</th>\n",
       "      <th>Martial Status</th>\n",
       "      <th>Occupation</th>\n",
       "      <th>Relationship</th>\n",
       "      <th>Race</th>\n",
       "      <th>Sex</th>\n",
       "      <th>Capital-Gain</th>\n",
       "      <th>Capital-Loss</th>\n",
       "      <th>Hours-per-week</th>\n",
       "      <th>Country</th>\n",
       "      <th>Income</th>\n",
       "    </tr>\n",
       "  </thead>\n",
       "  <tbody>\n",
       "    <tr>\n",
       "      <th>0</th>\n",
       "      <td>39</td>\n",
       "      <td>State-gov</td>\n",
       "      <td>77516</td>\n",
       "      <td>Bachelors</td>\n",
       "      <td>13</td>\n",
       "      <td>Never-married</td>\n",
       "      <td>Adm-clerical</td>\n",
       "      <td>Not-in-family</td>\n",
       "      <td>White</td>\n",
       "      <td>Male</td>\n",
       "      <td>2174</td>\n",
       "      <td>0</td>\n",
       "      <td>40</td>\n",
       "      <td>United-States</td>\n",
       "      <td>&lt;=50K</td>\n",
       "    </tr>\n",
       "    <tr>\n",
       "      <th>1</th>\n",
       "      <td>50</td>\n",
       "      <td>Self-emp-not-inc</td>\n",
       "      <td>83311</td>\n",
       "      <td>Bachelors</td>\n",
       "      <td>13</td>\n",
       "      <td>Married-civ-spouse</td>\n",
       "      <td>Exec-managerial</td>\n",
       "      <td>Husband</td>\n",
       "      <td>White</td>\n",
       "      <td>Male</td>\n",
       "      <td>0</td>\n",
       "      <td>0</td>\n",
       "      <td>13</td>\n",
       "      <td>United-States</td>\n",
       "      <td>&lt;=50K</td>\n",
       "    </tr>\n",
       "    <tr>\n",
       "      <th>2</th>\n",
       "      <td>38</td>\n",
       "      <td>Private</td>\n",
       "      <td>215646</td>\n",
       "      <td>HS-grad</td>\n",
       "      <td>9</td>\n",
       "      <td>Divorced</td>\n",
       "      <td>Handlers-cleaners</td>\n",
       "      <td>Not-in-family</td>\n",
       "      <td>White</td>\n",
       "      <td>Male</td>\n",
       "      <td>0</td>\n",
       "      <td>0</td>\n",
       "      <td>40</td>\n",
       "      <td>United-States</td>\n",
       "      <td>&lt;=50K</td>\n",
       "    </tr>\n",
       "    <tr>\n",
       "      <th>3</th>\n",
       "      <td>53</td>\n",
       "      <td>Private</td>\n",
       "      <td>234721</td>\n",
       "      <td>11th</td>\n",
       "      <td>7</td>\n",
       "      <td>Married-civ-spouse</td>\n",
       "      <td>Handlers-cleaners</td>\n",
       "      <td>Husband</td>\n",
       "      <td>Black</td>\n",
       "      <td>Male</td>\n",
       "      <td>0</td>\n",
       "      <td>0</td>\n",
       "      <td>40</td>\n",
       "      <td>United-States</td>\n",
       "      <td>&lt;=50K</td>\n",
       "    </tr>\n",
       "    <tr>\n",
       "      <th>4</th>\n",
       "      <td>28</td>\n",
       "      <td>Private</td>\n",
       "      <td>338409</td>\n",
       "      <td>Bachelors</td>\n",
       "      <td>13</td>\n",
       "      <td>Married-civ-spouse</td>\n",
       "      <td>Prof-specialty</td>\n",
       "      <td>Wife</td>\n",
       "      <td>Black</td>\n",
       "      <td>Female</td>\n",
       "      <td>0</td>\n",
       "      <td>0</td>\n",
       "      <td>40</td>\n",
       "      <td>Cuba</td>\n",
       "      <td>&lt;=50K</td>\n",
       "    </tr>\n",
       "  </tbody>\n",
       "</table>\n",
       "</div>"
      ],
      "text/plain": [
       "   Age         Workclass  fnlwgt  Education  Education-Num  \\\n",
       "0   39         State-gov   77516  Bachelors             13   \n",
       "1   50  Self-emp-not-inc   83311  Bachelors             13   \n",
       "2   38           Private  215646    HS-grad              9   \n",
       "3   53           Private  234721       11th              7   \n",
       "4   28           Private  338409  Bachelors             13   \n",
       "\n",
       "       Martial Status         Occupation   Relationship   Race     Sex  \\\n",
       "0       Never-married       Adm-clerical  Not-in-family  White    Male   \n",
       "1  Married-civ-spouse    Exec-managerial        Husband  White    Male   \n",
       "2            Divorced  Handlers-cleaners  Not-in-family  White    Male   \n",
       "3  Married-civ-spouse  Handlers-cleaners        Husband  Black    Male   \n",
       "4  Married-civ-spouse     Prof-specialty           Wife  Black  Female   \n",
       "\n",
       "   Capital-Gain  Capital-Loss  Hours-per-week        Country Income  \n",
       "0          2174             0              40  United-States  <=50K  \n",
       "1             0             0              13  United-States  <=50K  \n",
       "2             0             0              40  United-States  <=50K  \n",
       "3             0             0              40  United-States  <=50K  \n",
       "4             0             0              40           Cuba  <=50K  "
      ]
     },
     "execution_count": 45,
     "metadata": {},
     "output_type": "execute_result"
    }
   ],
   "source": [
    "### All the null/missing values have been eliminated using statistics\n",
    "### Now Checking for outliers\n",
    "df_cp = df.copy() ## Creating a copy for the outliers analysis \n",
    "df_cp.head()\n",
    "\n"
   ]
  },
  {
   "cell_type": "code",
   "execution_count": 46,
   "id": "35bf3f8c",
   "metadata": {},
   "outputs": [
    {
     "data": {
      "text/html": [
       "<div>\n",
       "<style scoped>\n",
       "    .dataframe tbody tr th:only-of-type {\n",
       "        vertical-align: middle;\n",
       "    }\n",
       "\n",
       "    .dataframe tbody tr th {\n",
       "        vertical-align: top;\n",
       "    }\n",
       "\n",
       "    .dataframe thead th {\n",
       "        text-align: right;\n",
       "    }\n",
       "</style>\n",
       "<table border=\"1\" class=\"dataframe\">\n",
       "  <thead>\n",
       "    <tr style=\"text-align: right;\">\n",
       "      <th></th>\n",
       "      <th>Age</th>\n",
       "      <th>fnlwgt</th>\n",
       "      <th>Education-Num</th>\n",
       "      <th>Capital-Gain</th>\n",
       "      <th>Capital-Loss</th>\n",
       "      <th>Hours-per-week</th>\n",
       "    </tr>\n",
       "  </thead>\n",
       "  <tbody>\n",
       "    <tr>\n",
       "      <th>count</th>\n",
       "      <td>48842.000000</td>\n",
       "      <td>4.884200e+04</td>\n",
       "      <td>48842.000000</td>\n",
       "      <td>48842.000000</td>\n",
       "      <td>48842.000000</td>\n",
       "      <td>48842.000000</td>\n",
       "    </tr>\n",
       "    <tr>\n",
       "      <th>mean</th>\n",
       "      <td>38.643585</td>\n",
       "      <td>1.896641e+05</td>\n",
       "      <td>10.078089</td>\n",
       "      <td>1079.067626</td>\n",
       "      <td>87.502314</td>\n",
       "      <td>40.422382</td>\n",
       "    </tr>\n",
       "    <tr>\n",
       "      <th>std</th>\n",
       "      <td>13.710510</td>\n",
       "      <td>1.056040e+05</td>\n",
       "      <td>2.570973</td>\n",
       "      <td>7452.019058</td>\n",
       "      <td>403.004552</td>\n",
       "      <td>12.391444</td>\n",
       "    </tr>\n",
       "    <tr>\n",
       "      <th>min</th>\n",
       "      <td>17.000000</td>\n",
       "      <td>1.228500e+04</td>\n",
       "      <td>1.000000</td>\n",
       "      <td>0.000000</td>\n",
       "      <td>0.000000</td>\n",
       "      <td>1.000000</td>\n",
       "    </tr>\n",
       "    <tr>\n",
       "      <th>25%</th>\n",
       "      <td>28.000000</td>\n",
       "      <td>1.175505e+05</td>\n",
       "      <td>9.000000</td>\n",
       "      <td>0.000000</td>\n",
       "      <td>0.000000</td>\n",
       "      <td>40.000000</td>\n",
       "    </tr>\n",
       "    <tr>\n",
       "      <th>50%</th>\n",
       "      <td>37.000000</td>\n",
       "      <td>1.781445e+05</td>\n",
       "      <td>10.000000</td>\n",
       "      <td>0.000000</td>\n",
       "      <td>0.000000</td>\n",
       "      <td>40.000000</td>\n",
       "    </tr>\n",
       "    <tr>\n",
       "      <th>75%</th>\n",
       "      <td>48.000000</td>\n",
       "      <td>2.376420e+05</td>\n",
       "      <td>12.000000</td>\n",
       "      <td>0.000000</td>\n",
       "      <td>0.000000</td>\n",
       "      <td>45.000000</td>\n",
       "    </tr>\n",
       "    <tr>\n",
       "      <th>max</th>\n",
       "      <td>90.000000</td>\n",
       "      <td>1.490400e+06</td>\n",
       "      <td>16.000000</td>\n",
       "      <td>99999.000000</td>\n",
       "      <td>4356.000000</td>\n",
       "      <td>99.000000</td>\n",
       "    </tr>\n",
       "  </tbody>\n",
       "</table>\n",
       "</div>"
      ],
      "text/plain": [
       "                Age        fnlwgt  Education-Num  Capital-Gain  Capital-Loss  \\\n",
       "count  48842.000000  4.884200e+04   48842.000000  48842.000000  48842.000000   \n",
       "mean      38.643585  1.896641e+05      10.078089   1079.067626     87.502314   \n",
       "std       13.710510  1.056040e+05       2.570973   7452.019058    403.004552   \n",
       "min       17.000000  1.228500e+04       1.000000      0.000000      0.000000   \n",
       "25%       28.000000  1.175505e+05       9.000000      0.000000      0.000000   \n",
       "50%       37.000000  1.781445e+05      10.000000      0.000000      0.000000   \n",
       "75%       48.000000  2.376420e+05      12.000000      0.000000      0.000000   \n",
       "max       90.000000  1.490400e+06      16.000000  99999.000000   4356.000000   \n",
       "\n",
       "       Hours-per-week  \n",
       "count    48842.000000  \n",
       "mean        40.422382  \n",
       "std         12.391444  \n",
       "min          1.000000  \n",
       "25%         40.000000  \n",
       "50%         40.000000  \n",
       "75%         45.000000  \n",
       "max         99.000000  "
      ]
     },
     "execution_count": 46,
     "metadata": {},
     "output_type": "execute_result"
    }
   ],
   "source": [
    "df_cp.describe()"
   ]
  },
  {
   "cell_type": "markdown",
   "id": "30b337fe",
   "metadata": {},
   "source": [
    "## We can see that 6 columns have numerical values.\n",
    "\n",
    "## With the quantiles, min and max, the dataset can be splitted into 4 buckets:\n",
    "\n",
    "### Bucket 1: below 25% (e.g) for Age column, 25% of people are under 28 years old\n",
    "### Bucket 2: between 25% and 50% (e.g), 25% of them (50%-25%) are between 28 and 37 years old.\n",
    "### Bucket 3: between 50% and 75% (e.g), 25% of them are between 37 and 48 years old .\n",
    "### Bucket 4: between above 75% (e.g), 25% of them are over 48 years old.\n",
    "\n",
    "### Then all the values beyond 1.5xIQR are considered as outliers. IQR = Inter Quartile Range = 75th - 25th.\n",
    "\n",
    "## Boxplots can be used to analyse outliers"
   ]
  },
  {
   "cell_type": "markdown",
   "id": "d929374b",
   "metadata": {},
   "source": [
    "## <font color='#fc6703'>AGE</font>\n"
   ]
  },
  {
   "cell_type": "code",
   "execution_count": 49,
   "id": "695aa182",
   "metadata": {},
   "outputs": [
    {
     "data": {
      "image/png": "[encoded data removed]",
      "text/plain": [
       "<Figure size 432x288 with 1 Axes>"
      ]
     },
     "metadata": {
      "needs_background": "light"
     },
     "output_type": "display_data"
    }
   ],
   "source": [
    "sns.boxplot(y='Age', data=df_cp)\n",
    "plt.show()"
   ]
  },
  {
   "cell_type": "code",
   "execution_count": 50,
   "id": "123e7d03",
   "metadata": {},
   "outputs": [],
   "source": [
    "# Creating a 0-100th percentile to find a correct percenmtile value for removal of the outliers\n",
    "\n",
    "def ten_to_ten_percentiles(data, column):\n",
    "    for i in range(0,100,10):\n",
    "        var = data[column].values\n",
    "        var = np.sort(var, axis=None)\n",
    "        print('{} percentile value is {}'.format(i, var[int(len(var) * (float(i)/100))]))\n",
    "    print('100 percentile value is {}'.format(var[-1]))"
   ]
  },
  {
   "cell_type": "code",
   "execution_count": 51,
   "id": "1ce66e21",
   "metadata": {},
   "outputs": [
    {
     "name": "stdout",
     "output_type": "stream",
     "text": [
      "0 percentile value is 17\n",
      "10 percentile value is 22\n",
      "20 percentile value is 26\n",
      "30 percentile value is 30\n",
      "40 percentile value is 33\n",
      "50 percentile value is 37\n",
      "60 percentile value is 41\n",
      "70 percentile value is 45\n",
      "80 percentile value is 51\n",
      "90 percentile value is 58\n",
      "100 percentile value is 90\n"
     ]
    }
   ],
   "source": [
    "#Percentileson Age\n",
    "ten_to_ten_percentiles(df_cp, 'Age')\n"
   ]
  },
  {
   "cell_type": "code",
   "execution_count": 52,
   "id": "8a2d4f3e",
   "metadata": {},
   "outputs": [],
   "source": [
    "# From above we get to know that there are no extreme values in 0-100th percentiles of Age\n",
    "\n",
    "# Now calculating column values at each percntile 90, 91, 92, 93, 94, 95, 96, 97, 98, 99, 100\n",
    "def percentiles_from_90(data, column):\n",
    "    for i in range(90,100):\n",
    "        var = data[column].values\n",
    "        var = np.sort(var, axis=None)\n",
    "        print('{} percentile value is {}'.format(i, var[int(len(var) * (float(i)/100))]))\n",
    "    print('100 percentile value is {}'.format(var[-1]))\n"
   ]
  },
  {
   "cell_type": "code",
   "execution_count": 53,
   "id": "6765b9e3",
   "metadata": {},
   "outputs": [
    {
     "name": "stdout",
     "output_type": "stream",
     "text": [
      "90 percentile value is 58\n",
      "91 percentile value is 59\n",
      "92 percentile value is 60\n",
      "93 percentile value is 61\n",
      "94 percentile value is 62\n",
      "95 percentile value is 63\n",
      "96 percentile value is 65\n",
      "97 percentile value is 67\n",
      "98 percentile value is 70\n",
      "99 percentile value is 74\n",
      "100 percentile value is 90\n"
     ]
    }
   ],
   "source": [
    "percentiles_from_90(df_cp,'Age')"
   ]
  },
  {
   "cell_type": "markdown",
   "id": "cb1b16cf",
   "metadata": {},
   "source": [
    " The percentiles from 90-100 alsop shows that there are no extreme values\n",
    " Going deeper with the percentile values, we can have more information.\n",
    " So creating a function to check deeper in to 99-100th percentiles"
   ]
  },
  {
   "cell_type": "code",
   "execution_count": 54,
   "id": "63f3dfdc",
   "metadata": {},
   "outputs": [
    {
     "name": "stdout",
     "output_type": "stream",
     "text": [
      "99.0 percentile value is 74\n",
      "99.1 percentile value is 75\n",
      "99.2 percentile value is 75\n",
      "99.3 percentile value is 76\n",
      "99.4 percentile value is 77\n",
      "99.5 percentile value is 78\n",
      "99.6 percentile value is 79\n",
      "99.7 percentile value is 81\n",
      "99.8 percentile value is 82\n",
      "99.9 percentile value is 90\n",
      "100 percentile value is  90\n"
     ]
    }
   ],
   "source": [
    "# Calculating colunm values at each percntile 99.0,99.1,99.2,99.3,99.4,99.5,99.6,99.7,99.8,99.9,100\n",
    "\n",
    "\n",
    "def percentiles_from_99(data, column):\n",
    "    for i in np.arange(0.0, 1.0, 0.1):\n",
    "        var =data[column].values\n",
    "        var = np.sort(var,axis = None)\n",
    "        print(\"{} percentile value is {}\".format(99+i,var[int(len(var)*(float(99+i)/100))]))\n",
    "    print(\"100 percentile value is \",var[-1])\n",
    "    \n",
    "percentiles_from_99(df_cp,'Age')"
   ]
  },
  {
   "cell_type": "markdown",
   "id": "226d5ad5",
   "metadata": {},
   "source": [
    "## <font color='#fc6703'>Education-Num</font>\n"
   ]
  },
  {
   "cell_type": "code",
   "execution_count": 55,
   "id": "b12796fe",
   "metadata": {},
   "outputs": [
    {
     "data": {
      "image/png": "[encoded data removed]",
      "text/plain": [
       "<Figure size 432x288 with 1 Axes>"
      ]
     },
     "metadata": {
      "needs_background": "light"
     },
     "output_type": "display_data"
    }
   ],
   "source": [
    "sns.boxplot(y='Education-Num', data=df_cp)\n",
    "plt.show()"
   ]
  },
  {
   "cell_type": "code",
   "execution_count": 68,
   "id": "cb4958cb",
   "metadata": {},
   "outputs": [
    {
     "name": "stdout",
     "output_type": "stream",
     "text": [
      "0 percentile value is 1\n",
      "10 percentile value is 7\n",
      "20 percentile value is 9\n",
      "30 percentile value is 9\n",
      "40 percentile value is 9\n",
      "50 percentile value is 10\n",
      "60 percentile value is 10\n",
      "70 percentile value is 11\n",
      "80 percentile value is 13\n",
      "90 percentile value is 13\n",
      "100 percentile value is 16\n",
      "0-100th None\n",
      "90 percentile value is 13\n",
      "91 percentile value is 13\n",
      "92 percentile value is 14\n",
      "93 percentile value is 14\n",
      "94 percentile value is 14\n",
      "95 percentile value is 14\n",
      "96 percentile value is 14\n",
      "97 percentile value is 14\n",
      "98 percentile value is 15\n",
      "99 percentile value is 16\n",
      "100 percentile value is 16\n",
      "\n",
      "\n",
      "90-100th None\n",
      "99.0 percentile value is 16\n",
      "99.1 percentile value is 16\n",
      "99.2 percentile value is 16\n",
      "99.3 percentile value is 16\n",
      "99.4 percentile value is 16\n",
      "99.5 percentile value is 16\n",
      "99.6 percentile value is 16\n",
      "99.7 percentile value is 16\n",
      "99.8 percentile value is 16\n",
      "99.9 percentile value is 16\n",
      "100 percentile value is  16\n",
      "\n",
      "99-100th None\n"
     ]
    }
   ],
   "source": [
    "print('0-100th',ten_to_ten_percentiles(df_cp, 'Education-Num'))\n",
    "print('\\n\\n90-100th',percentiles_from_90(df_cp,'Education-Num'))\n",
    "print('\\n99-100th',percentiles_from_99(df_cp,'Education-Num'))"
   ]
  },
  {
   "cell_type": "markdown",
   "id": "3b7bc458",
   "metadata": {},
   "source": [
    "### Hence there is no anomalies with Education number.\n",
    "\n"
   ]
  },
  {
   "cell_type": "markdown",
   "id": "23ad4d4f",
   "metadata": {},
   "source": [
    "## <font color='#fc6703'>Capital-Gain</font>\n"
   ]
  },
  {
   "cell_type": "code",
   "execution_count": 69,
   "id": "a46e6df9",
   "metadata": {},
   "outputs": [
    {
     "data": {
      "image/png": "[encoded data removed]",
      "text/plain": [
       "<Figure size 432x288 with 1 Axes>"
      ]
     },
     "metadata": {
      "needs_background": "light"
     },
     "output_type": "display_data"
    }
   ],
   "source": [
    "# Capital-Gain\n",
    "sns.boxplot(y='Capital-Gain', data=df_cp)\n",
    "plt.show()"
   ]
  },
  {
   "cell_type": "code",
   "execution_count": 70,
   "id": "976f13a3",
   "metadata": {},
   "outputs": [
    {
     "name": "stdout",
     "output_type": "stream",
     "text": [
      "0 percentile value is 0\n",
      "10 percentile value is 0\n",
      "20 percentile value is 0\n",
      "30 percentile value is 0\n",
      "40 percentile value is 0\n",
      "50 percentile value is 0\n",
      "60 percentile value is 0\n",
      "70 percentile value is 0\n",
      "80 percentile value is 0\n",
      "90 percentile value is 0\n",
      "100 percentile value is 99999\n",
      "0-100th None\n",
      "90 percentile value is 0\n",
      "91 percentile value is 0\n",
      "92 percentile value is 1151\n",
      "93 percentile value is 2829\n",
      "94 percentile value is 3674\n",
      "95 percentile value is 5013\n",
      "96 percentile value is 7298\n",
      "97 percentile value is 7688\n",
      "98 percentile value is 14084\n",
      "99 percentile value is 15024\n",
      "100 percentile value is 99999\n",
      "\n",
      "\n",
      "90-100th None\n",
      "99.0 percentile value is 15024\n",
      "99.1 percentile value is 15024\n",
      "99.2 percentile value is 15831\n",
      "99.3 percentile value is 20051\n",
      "99.4 percentile value is 27828\n",
      "99.5 percentile value is 41310\n",
      "99.6 percentile value is 99999\n",
      "99.7 percentile value is 99999\n",
      "99.8 percentile value is 99999\n",
      "99.9 percentile value is 99999\n",
      "100 percentile value is  99999\n",
      "\n",
      "99-100th None\n"
     ]
    }
   ],
   "source": [
    "print('0-100th',ten_to_ten_percentiles(df_cp, 'Capital-Gain'))\n",
    "print('\\n\\n90-100th',percentiles_from_90(df_cp,'Capital-Gain'))\n",
    "print('\\n99-100th',percentiles_from_99(df_cp,'Capital-Gain'))"
   ]
  },
  {
   "cell_type": "code",
   "execution_count": 73,
   "id": "381e4fea",
   "metadata": {},
   "outputs": [],
   "source": [
    "# Removing the outliers based on 99.5th percentile of Capital-Gain\n",
    "df_cp = df_cp[df_cp['Capital-Gain']<=34095]"
   ]
  },
  {
   "cell_type": "code",
   "execution_count": 74,
   "id": "b4be02da",
   "metadata": {},
   "outputs": [
    {
     "data": {
      "image/png": "[encoded data removed]",
      "text/plain": [
       "<Figure size 432x288 with 1 Axes>"
      ]
     },
     "metadata": {
      "needs_background": "light"
     },
     "output_type": "display_data"
    }
   ],
   "source": [
    "sns.boxplot(y='Capital-Gain', data=df_cp)\n",
    "plt.show()"
   ]
  },
  {
   "cell_type": "markdown",
   "id": "17e0b2e5",
   "metadata": {},
   "source": [
    "## <font color='#fc6703'>Capital-Loss</font>\n"
   ]
  },
  {
   "cell_type": "code",
   "execution_count": 72,
   "id": "67a9c695",
   "metadata": {},
   "outputs": [
    {
     "data": {
      "image/png": "[encoded data removed]",
      "text/plain": [
       "<Figure size 432x288 with 1 Axes>"
      ]
     },
     "metadata": {
      "needs_background": "light"
     },
     "output_type": "display_data"
    }
   ],
   "source": [
    "# Capital-Loss\n",
    "sns.boxplot(y='Capital-Loss', data=df_cp)\n",
    "plt.show()"
   ]
  },
  {
   "cell_type": "code",
   "execution_count": 71,
   "id": "b5158f1a",
   "metadata": {},
   "outputs": [
    {
     "name": "stdout",
     "output_type": "stream",
     "text": [
      "0 percentile value is 0\n",
      "10 percentile value is 0\n",
      "20 percentile value is 0\n",
      "30 percentile value is 0\n",
      "40 percentile value is 0\n",
      "50 percentile value is 0\n",
      "60 percentile value is 0\n",
      "70 percentile value is 0\n",
      "80 percentile value is 0\n",
      "90 percentile value is 0\n",
      "100 percentile value is 4356\n",
      "0-100th None\n",
      "90 percentile value is 0\n",
      "91 percentile value is 0\n",
      "92 percentile value is 0\n",
      "93 percentile value is 0\n",
      "94 percentile value is 0\n",
      "95 percentile value is 0\n",
      "96 percentile value is 1590\n",
      "97 percentile value is 1848\n",
      "98 percentile value is 1902\n",
      "99 percentile value is 2001\n",
      "100 percentile value is 4356\n",
      "\n",
      "\n",
      "90-100th None\n",
      "99.0 percentile value is 2001\n",
      "99.1 percentile value is 2002\n",
      "99.2 percentile value is 2051\n",
      "99.3 percentile value is 2174\n",
      "99.4 percentile value is 2231\n",
      "99.5 percentile value is 2258\n",
      "99.6 percentile value is 2377\n",
      "99.7 percentile value is 2415\n",
      "99.8 percentile value is 2415\n",
      "99.9 percentile value is 2559\n",
      "100 percentile value is  4356\n",
      "\n",
      "99-100th None\n"
     ]
    }
   ],
   "source": [
    "print('0-100th',ten_to_ten_percentiles(df_cp, 'Capital-Loss'))\n",
    "print('\\n\\n90-100th',percentiles_from_90(df_cp,'Capital-Loss'))\n",
    "print('\\n99-100th',percentiles_from_99(df_cp,'Capital-Loss'))"
   ]
  },
  {
   "cell_type": "markdown",
   "id": "3b95ac97",
   "metadata": {},
   "source": [
    "## <font color='#fc6703'>Hours-per-week</font>\n"
   ]
  },
  {
   "cell_type": "code",
   "execution_count": 75,
   "id": "31bc32fb",
   "metadata": {},
   "outputs": [
    {
     "data": {
      "image/png": "[encoded data removed]",
      "text/plain": [
       "<Figure size 432x288 with 1 Axes>"
      ]
     },
     "metadata": {
      "needs_background": "light"
     },
     "output_type": "display_data"
    }
   ],
   "source": [
    "\n",
    "sns.boxplot(y='Hours-per-week', data=df_cp)\n",
    "plt.show()"
   ]
  },
  {
   "cell_type": "code",
   "execution_count": 76,
   "id": "21e94114",
   "metadata": {},
   "outputs": [
    {
     "name": "stdout",
     "output_type": "stream",
     "text": [
      "0 percentile value is 1\n",
      "10 percentile value is 24\n",
      "20 percentile value is 35\n",
      "30 percentile value is 40\n",
      "40 percentile value is 40\n",
      "50 percentile value is 40\n",
      "60 percentile value is 40\n",
      "70 percentile value is 40\n",
      "80 percentile value is 48\n",
      "90 percentile value is 55\n",
      "100 percentile value is 99\n",
      "0-100th None\n",
      "90 percentile value is 55\n",
      "91 percentile value is 55\n",
      "92 percentile value is 56\n",
      "93 percentile value is 60\n",
      "94 percentile value is 60\n",
      "95 percentile value is 60\n",
      "96 percentile value is 60\n",
      "97 percentile value is 65\n",
      "98 percentile value is 70\n",
      "99 percentile value is 80\n",
      "100 percentile value is 99\n",
      "\n",
      "\n",
      "90-100th None\n",
      "99.0 percentile value is 80\n",
      "99.1 percentile value is 80\n",
      "99.2 percentile value is 80\n",
      "99.3 percentile value is 80\n",
      "99.4 percentile value is 84\n",
      "99.5 percentile value is 84\n",
      "99.6 percentile value is 90\n",
      "99.7 percentile value is 98\n",
      "99.8 percentile value is 99\n",
      "99.9 percentile value is 99\n",
      "100 percentile value is  99\n",
      "\n",
      "99-100th None\n"
     ]
    }
   ],
   "source": [
    "print('0-100th',ten_to_ten_percentiles(df_cp, 'Hours-per-week'))\n",
    "print('\\n\\n90-100th',percentiles_from_90(df_cp,'Hours-per-week'))\n",
    "print('\\n99-100th',percentiles_from_99(df_cp,'Hours-per-week'))"
   ]
  },
  {
   "cell_type": "markdown",
   "id": "c2dbebce",
   "metadata": {},
   "source": [
    "### There is no special extreme value here.\n",
    "\n",
    "### Now, we are going to create a helper function in order to remove all the outliers, based in our previous univariate analysis."
   ]
  },
  {
   "cell_type": "code",
   "execution_count": 77,
   "id": "55587388",
   "metadata": {},
   "outputs": [],
   "source": [
    "def remove_outliers(data):\n",
    "    a = data.shape[0]\n",
    "    print(\"Number of salary records = {}\".format(a))\n",
    "        \n",
    "    temp_data = data[data['Capital-Gain']<=34095]\n",
    "    b = temp_data.shape[0]\n",
    "    \n",
    "    print('Number of outliers from the Capital-Gain column= {}'.format(a - b))\n",
    "        \n",
    "    data = data[(data['Capital-Gain']<=34095)]\n",
    "    \n",
    "    print('Total outlies removed = {}'.format(a-b))\n",
    "    print('-----'*10)\n",
    "    return data"
   ]
  },
  {
   "cell_type": "code",
   "execution_count": 78,
   "id": "feeffd83",
   "metadata": {},
   "outputs": [
    {
     "name": "stdout",
     "output_type": "stream",
     "text": [
      "Removing all the outliers from the data\n",
      "--------------------------------------------------\n",
      "Number of salary records = 48842\n",
      "Number of outliers from the Capital-Gain column= 247\n",
      "Total outlies removed = 247\n",
      "--------------------------------------------------\n",
      "Proportion of observation that remain after removing outliers = 0.9949428770320625\n"
     ]
    }
   ],
   "source": [
    "print('Removing all the outliers from the data')\n",
    "print('-----'*10)\n",
    "df_no_outliers = remove_outliers(df)\n",
    "\n",
    "proportion_remaing_data = float(len(df_no_outliers)) / len(df)\n",
    "print('Proportion of observation that remain after removing outliers = {}'.format(proportion_remaing_data))"
   ]
  },
  {
   "cell_type": "markdown",
   "id": "851ba873",
   "metadata": {},
   "source": [
    "## After removing the outliers from out data, still 99.49% of the dataset remain present.\n",
    "\n"
   ]
  },
  {
   "cell_type": "markdown",
   "id": "47456c4e",
   "metadata": {},
   "source": [
    "# Exploratory Data Analysis"
   ]
  },
  {
   "cell_type": "code",
   "execution_count": 79,
   "id": "6f152ed5",
   "metadata": {},
   "outputs": [
    {
     "data": {
      "text/plain": [
       "array(['<=50K', '>50K'], dtype=object)"
      ]
     },
     "execution_count": 79,
     "metadata": {},
     "output_type": "execute_result"
    }
   ],
   "source": [
    "df_no_outliers.Income.unique()"
   ]
  },
  {
   "cell_type": "code",
   "execution_count": 80,
   "id": "3c2007a6",
   "metadata": {},
   "outputs": [
    {
     "data": {
      "text/plain": [
       "<AxesSubplot:xlabel='Income', ylabel='count'>"
      ]
     },
     "execution_count": 80,
     "metadata": {},
     "output_type": "execute_result"
    },
    {
     "data": {
      "image/png": "[encoded data removed]",
      "text/plain": [
       "<Figure size 432x288 with 1 Axes>"
      ]
     },
     "metadata": {
      "needs_background": "light"
     },
     "output_type": "display_data"
    }
   ],
   "source": [
    "palette = {\"<=50K\":\"r\", \">50K\":\"g\"}\n",
    "sns.countplot(x=\"Income\", data=df_no_outliers, hue=\"Income\", palette=palette)"
   ]
  },
  {
   "cell_type": "code",
   "execution_count": null,
   "id": "21d730af",
   "metadata": {},
   "outputs": [],
   "source": []
  }
 ],
 "metadata": {
  "kernelspec": {
   "display_name": "Python 3 (ipykernel)",
   "language": "python",
   "name": "python3"
  },
  "language_info": {
   "codemirror_mode": {
    "name": "ipython",
    "version": 3
   },
   "file_extension": ".py",
   "mimetype": "text/x-python",
   "name": "python",
   "nbconvert_exporter": "python",
   "pygments_lexer": "ipython3",
   "version": "3.9.12"
  }
 },
 "nbformat": 4,
 "nbformat_minor": 5
}
